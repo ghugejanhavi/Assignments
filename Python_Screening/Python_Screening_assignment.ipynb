{
 "cells": [
  {
   "cell_type": "markdown",
   "metadata": {},
   "source": [
    "### Create a function in python to read the text file and replace specific content of the file."
   ]
  },
  {
   "cell_type": "code",
   "execution_count": 12,
   "metadata": {},
   "outputs": [],
   "source": [
    "f = open(\"example.txt\",\"w+\")\n",
    "f.write(\"This is a placement assignment\")\n",
    "f.close()"
   ]
  },
  {
   "cell_type": "code",
   "execution_count": 13,
   "metadata": {},
   "outputs": [],
   "source": [
    "def file_replace():\n",
    "    name_of_file = input(\"Enter the name of file: \")\n",
    "    x = input(\"Enter string to replace: \")\n",
    "    y = input(\"Enter string to be replaced with: \")\n",
    "    \n",
    "    try:\n",
    "        with open(name_of_file ,\"r\") as file:\n",
    "            content = file.read()\n",
    "            if x not in content:\n",
    "                raise Exception(f\"{x} is not in this file\")\n",
    "            content = content.replace(x,y)\n",
    "                  \n",
    "    except Exception as e:\n",
    "        print(e)\n",
    "    \n",
    "    try:\n",
    "        with open(name_of_file ,\"w\") as file:\n",
    "            file.write(content)\n",
    "            \n",
    "    except Exception as e:\n",
    "        print(e)\n",
    "    \n",
    "    else:\n",
    "        print(\"success\")"
   ]
  },
  {
   "cell_type": "code",
   "execution_count": 14,
   "metadata": {},
   "outputs": [
    {
     "name": "stdout",
     "output_type": "stream",
     "text": [
      "Enter the name of file: example.txt\n",
      "Enter string to replace: placement\n",
      "Enter string to be replaced with: screening\n",
      "success\n"
     ]
    }
   ],
   "source": [
    "file_replace()"
   ]
  },
  {
   "cell_type": "markdown",
   "metadata": {},
   "source": [
    "### Demonstrate use of abstract class, multiple inheritance and decorator in python using examples."
   ]
  },
  {
   "cell_type": "code",
   "execution_count": 4,
   "metadata": {},
   "outputs": [],
   "source": [
    "from abc import ABC, abstractmethod\n",
    "\n",
    "class Study(ABC):  #Parent class and Abstract class\n",
    "    @abstractmethod  # decorator to use the below defined func compulsarily in child class \n",
    "    def language(self):\n",
    "        pass\n",
    "\n",
    "class Sports(ABC):  #Parent class and Abstract class\n",
    "    @abstractmethod  \n",
    "    def games(self):\n",
    "        pass\n",
    "    \n",
    "class Student(Study, Sports): # Multiple inheritance to inherit the properties from both the classes\n",
    "    def __init__(self,name):\n",
    "        self.name = name\n",
    "    \n",
    "    def language(self, language):  # function is defined and overridden in child class\n",
    "        print(f\"{self.name} is learning {language} language\")\n",
    "        \n",
    "    def games(self, game):\n",
    "        print(f\"{self.name} likes to play {game}\")\n",
    "    "
   ]
  },
  {
   "cell_type": "code",
   "execution_count": 5,
   "metadata": {},
   "outputs": [],
   "source": [
    "s1 = Student(\"Janhavi\")"
   ]
  },
  {
   "cell_type": "code",
   "execution_count": 6,
   "metadata": {},
   "outputs": [
    {
     "name": "stdout",
     "output_type": "stream",
     "text": [
      "Janhavi is learning English language\n"
     ]
    }
   ],
   "source": [
    "s1.language(\"English\")"
   ]
  },
  {
   "cell_type": "code",
   "execution_count": 7,
   "metadata": {},
   "outputs": [
    {
     "name": "stdout",
     "output_type": "stream",
     "text": [
      "Janhavi likes to play Tennis\n"
     ]
    }
   ],
   "source": [
    "s1.games(\"Tennis\")"
   ]
  },
  {
   "cell_type": "code",
   "execution_count": 8,
   "metadata": {},
   "outputs": [],
   "source": [
    "# decorator is used when certain method needs to be applied on different functions we write the \n",
    "# decorator before defining that func to execute that method in our function"
   ]
  },
  {
   "cell_type": "code",
   "execution_count": 9,
   "metadata": {},
   "outputs": [],
   "source": [
    "def area_calculate(func):\n",
    "    def dimensions(x,y):\n",
    "        func(x,y)\n",
    "        area = x*y\n",
    "        print(area)\n",
    "    return dimensions\n",
    "\n",
    "def rectangle(x,y):\n",
    "    print(f\"{x} is length and {y} is breadth\")\n",
    "    print(\"area is \")"
   ]
  },
  {
   "cell_type": "code",
   "execution_count": 10,
   "metadata": {},
   "outputs": [],
   "source": [
    "@area_calculate  # applying the decorator to calculate area of rectangle\n",
    "def rectangle(x,y):\n",
    "    print(f\"{x} is length and {y} is breadth\")\n",
    "    print(\"area is \")"
   ]
  },
  {
   "cell_type": "code",
   "execution_count": 11,
   "metadata": {},
   "outputs": [
    {
     "name": "stdout",
     "output_type": "stream",
     "text": [
      "5 is length and 7 is breadth\n",
      "area is \n",
      "35\n"
     ]
    }
   ],
   "source": [
    "rectangle(5,7)"
   ]
  },
  {
   "cell_type": "code",
   "execution_count": null,
   "metadata": {},
   "outputs": [],
   "source": []
  }
 ],
 "metadata": {
  "kernelspec": {
   "display_name": "Python 3",
   "language": "python",
   "name": "python3"
  },
  "language_info": {
   "codemirror_mode": {
    "name": "ipython",
    "version": 3
   },
   "file_extension": ".py",
   "mimetype": "text/x-python",
   "name": "python",
   "nbconvert_exporter": "python",
   "pygments_lexer": "ipython3",
   "version": "3.8.5"
  }
 },
 "nbformat": 4,
 "nbformat_minor": 4
}
